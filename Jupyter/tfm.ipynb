{
 "cells": [
  {
   "cell_type": "code",
   "execution_count": 13,
   "metadata": {},
   "outputs": [],
   "source": [
    "## IMPORTS ##\n",
    "import scipy.sparse\n",
    "import numpy as np\n",
    "import matplotlib.pyplot as pyplot\n",
    "import sklearn.metrics as mtc\n",
    "from sklearn.preprocessing import MultiLabelBinarizer\n",
    "from sklearn.multiclass import OneVsRestClassifier\n",
    "from sklearn.linear_model import LogisticRegression\n",
    "from sklearn.preprocessing import MaxAbsScaler\n",
    "from sklearn.preprocessing import StandardScaler\n",
    "from sklearn.neural_network import BernoulliRBM\n",
    "from sklearn.pipeline import Pipeline\n",
    "from sklearn.model_selection import GridSearchCV\n",
    "from sklearn.ensemble import RandomForestClassifier\n",
    "from sklearn.decomposition import TruncatedSVD\n",
    "from sklearn.model_selection import train_test_split"
   ]
  },
  {
   "cell_type": "code",
   "execution_count": 5,
   "metadata": {},
   "outputs": [],
   "source": [
    "X_tr = scipy.sparse.load_npz('../../Datasets/dataset/X_tr.npz')\n",
    "X_tst = scipy.sparse.load_npz('../../Datasets/dataset/X_tst.npz')\n",
    "y_tr = np.load('../../Datasets/dataset/y_tr.npy')\n",
    "y_tst = np.load('../../Datasets/dataset/y_tst.npy')\n",
    "# Se binarizan las caracteristicas \n",
    "y_tr=MultiLabelBinarizer().fit_transform(y_tr)\n",
    "y_tst=MultiLabelBinarizer().fit_transform(y_tst)\n",
    "# Escalado \n",
    "scaler = MaxAbsScaler().fit(X_tr)\n",
    "#scaler=StandardScaler(with_mean=False).fit(X_tr)\n",
    "X_tr=scaler.transform(X_tr)\n",
    "X_tst=scaler.transform(X_tst)\n"
   ]
  },
  {
   "cell_type": "code",
   "execution_count": 73,
   "metadata": {},
   "outputs": [
    {
     "ename": "ValueError",
     "evalue": "Expected 2D array, got 1D array instead:\narray=[].\nReshape your data either using array.reshape(-1, 1) if your data has a single feature or array.reshape(1, -1) if it contains a single sample.",
     "output_type": "error",
     "traceback": [
      "\u001b[1;31m---------------------------------------------------------------------------\u001b[0m",
      "\u001b[1;31mValueError\u001b[0m                                Traceback (most recent call last)",
      "\u001b[1;32m<ipython-input-73-f94b37ffe12d>\u001b[0m in \u001b[0;36m<module>\u001b[1;34m\u001b[0m\n\u001b[0;32m      1\u001b[0m \u001b[1;31m# REDUCCIÓN DE DIMENSIÓN PRIMERA TÉCNICA\u001b[0m\u001b[1;33m\u001b[0m\u001b[1;33m\u001b[0m\u001b[1;33m\u001b[0m\u001b[0m\n\u001b[0;32m      2\u001b[0m \u001b[0msvd\u001b[0m \u001b[1;33m=\u001b[0m \u001b[0mTruncatedSVD\u001b[0m\u001b[1;33m(\u001b[0m\u001b[0mn_components\u001b[0m\u001b[1;33m=\u001b[0m\u001b[1;36m17\u001b[0m\u001b[1;33m,\u001b[0m \u001b[0mn_iter\u001b[0m\u001b[1;33m=\u001b[0m\u001b[1;36m10\u001b[0m\u001b[1;33m,\u001b[0m \u001b[0mrandom_state\u001b[0m\u001b[1;33m=\u001b[0m\u001b[1;36m42\u001b[0m\u001b[1;33m)\u001b[0m\u001b[1;33m\u001b[0m\u001b[1;33m\u001b[0m\u001b[0m\n\u001b[1;32m----> 3\u001b[1;33m \u001b[0mX_tr\u001b[0m \u001b[1;33m=\u001b[0m \u001b[0msvd\u001b[0m\u001b[1;33m.\u001b[0m\u001b[0mfit_transform\u001b[0m\u001b[1;33m(\u001b[0m\u001b[0mX_tr\u001b[0m\u001b[1;33m)\u001b[0m\u001b[1;33m\u001b[0m\u001b[1;33m\u001b[0m\u001b[0m\n\u001b[0m\u001b[0;32m      4\u001b[0m \u001b[0mX_tst\u001b[0m \u001b[1;33m=\u001b[0m \u001b[0msvd\u001b[0m\u001b[1;33m.\u001b[0m\u001b[0mtransform\u001b[0m\u001b[1;33m(\u001b[0m\u001b[0mX_tst\u001b[0m\u001b[1;33m)\u001b[0m\u001b[1;33m\u001b[0m\u001b[1;33m\u001b[0m\u001b[0m\n\u001b[0;32m      5\u001b[0m \u001b[0mprint\u001b[0m\u001b[1;33m(\u001b[0m\u001b[0msvd\u001b[0m\u001b[1;33m.\u001b[0m\u001b[0mexplained_variance_ratio_\u001b[0m\u001b[1;33m)\u001b[0m\u001b[1;33m\u001b[0m\u001b[1;33m\u001b[0m\u001b[0m\n",
      "\u001b[1;32m~\\Anaconda3\\lib\\site-packages\\sklearn\\decomposition\\truncated_svd.py\u001b[0m in \u001b[0;36mfit_transform\u001b[1;34m(self, X, y)\u001b[0m\n\u001b[0;32m    157\u001b[0m             \u001b[0mReduced\u001b[0m \u001b[0mversion\u001b[0m \u001b[0mof\u001b[0m \u001b[0mX\u001b[0m\u001b[1;33m.\u001b[0m \u001b[0mThis\u001b[0m \u001b[0mwill\u001b[0m \u001b[0malways\u001b[0m \u001b[0mbe\u001b[0m \u001b[0ma\u001b[0m \u001b[0mdense\u001b[0m \u001b[0marray\u001b[0m\u001b[1;33m.\u001b[0m\u001b[1;33m\u001b[0m\u001b[1;33m\u001b[0m\u001b[0m\n\u001b[0;32m    158\u001b[0m         \"\"\"\n\u001b[1;32m--> 159\u001b[1;33m         \u001b[0mX\u001b[0m \u001b[1;33m=\u001b[0m \u001b[0mcheck_array\u001b[0m\u001b[1;33m(\u001b[0m\u001b[0mX\u001b[0m\u001b[1;33m,\u001b[0m \u001b[0maccept_sparse\u001b[0m\u001b[1;33m=\u001b[0m\u001b[1;33m[\u001b[0m\u001b[1;34m'csr'\u001b[0m\u001b[1;33m,\u001b[0m \u001b[1;34m'csc'\u001b[0m\u001b[1;33m]\u001b[0m\u001b[1;33m)\u001b[0m\u001b[1;33m\u001b[0m\u001b[1;33m\u001b[0m\u001b[0m\n\u001b[0m\u001b[0;32m    160\u001b[0m         \u001b[0mrandom_state\u001b[0m \u001b[1;33m=\u001b[0m \u001b[0mcheck_random_state\u001b[0m\u001b[1;33m(\u001b[0m\u001b[0mself\u001b[0m\u001b[1;33m.\u001b[0m\u001b[0mrandom_state\u001b[0m\u001b[1;33m)\u001b[0m\u001b[1;33m\u001b[0m\u001b[1;33m\u001b[0m\u001b[0m\n\u001b[0;32m    161\u001b[0m \u001b[1;33m\u001b[0m\u001b[0m\n",
      "\u001b[1;32m~\\Anaconda3\\lib\\site-packages\\sklearn\\utils\\validation.py\u001b[0m in \u001b[0;36mcheck_array\u001b[1;34m(array, accept_sparse, accept_large_sparse, dtype, order, copy, force_all_finite, ensure_2d, allow_nd, ensure_min_samples, ensure_min_features, warn_on_dtype, estimator)\u001b[0m\n\u001b[0;32m    550\u001b[0m                     \u001b[1;34m\"Reshape your data either using array.reshape(-1, 1) if \"\u001b[0m\u001b[1;33m\u001b[0m\u001b[1;33m\u001b[0m\u001b[0m\n\u001b[0;32m    551\u001b[0m                     \u001b[1;34m\"your data has a single feature or array.reshape(1, -1) \"\u001b[0m\u001b[1;33m\u001b[0m\u001b[1;33m\u001b[0m\u001b[0m\n\u001b[1;32m--> 552\u001b[1;33m                     \"if it contains a single sample.\".format(array))\n\u001b[0m\u001b[0;32m    553\u001b[0m \u001b[1;33m\u001b[0m\u001b[0m\n\u001b[0;32m    554\u001b[0m         \u001b[1;31m# in the future np.flexible dtypes will be handled like object dtypes\u001b[0m\u001b[1;33m\u001b[0m\u001b[1;33m\u001b[0m\u001b[1;33m\u001b[0m\u001b[0m\n",
      "\u001b[1;31mValueError\u001b[0m: Expected 2D array, got 1D array instead:\narray=[].\nReshape your data either using array.reshape(-1, 1) if your data has a single feature or array.reshape(1, -1) if it contains a single sample."
     ]
    }
   ],
   "source": [
    "# REDUCCIÓN DE DIMENSIÓN PRIMERA TÉCNICA\n",
    "svd = TruncatedSVD(n_components=17, n_iter=10, random_state=42)\n",
    "X_tr = svd.fit_transform(X_tr)  \n",
    "X_tst = svd.transform(X_tst)  \n",
    "print(svd.explained_variance_ratio_)\n",
    "print(svd.explained_variance_ratio_.sum())\n",
    "print(svd.singular_values_)\n",
    "\n"
   ]
  },
  {
   "cell_type": "code",
   "execution_count": 26,
   "metadata": {},
   "outputs": [],
   "source": [
    "#REDUCCION TAMAÑO TRAINING Y ELIMINAR CARACTERISTICAS INSERVIBLES\n",
    "\n",
    "columns=np.array([])\n",
    "for i in range(np.shape(X_tr)[1]):\n",
    "    if X_tr[:,i].count_nonzero()> 250:\n",
    "        columns=np.append(columns,i)\n"
   ]
  },
  {
   "cell_type": "code",
   "execution_count": 27,
   "metadata": {},
   "outputs": [
    {
     "name": "stdout",
     "output_type": "stream",
     "text": [
      "(4295,)\n"
     ]
    }
   ],
   "source": [
    "#Se guardan las caracteristicas mas importantes para evitar repetir este proceso siempre\n",
    "np.savetxt('features250.txt',columns,delimiter=',')\n",
    "\n",
    "print(np.shape(columns))\n"
   ]
  },
  {
   "cell_type": "code",
   "execution_count": 16,
   "metadata": {},
   "outputs": [],
   "source": [
    "#Se cargan las caracteristicas guardadas\n",
    "columns=np.loadtxt('features500.txt',delimiter=',')\n",
    "X_tr2=X_tr[:,columns]"
   ]
  },
  {
   "cell_type": "code",
   "execution_count": 30,
   "metadata": {},
   "outputs": [],
   "source": [
    "#Reducir tamaño de muestra para un tunning mas rapido\n",
    "X_aux, __, y_aux, __ = train_test_split(X_tr2, y_tr, test_size=0.1, random_state=42)\n"
   ]
  },
  {
   "cell_type": "code",
   "execution_count": 8,
   "metadata": {},
   "outputs": [
    {
     "ename": "NameError",
     "evalue": "name 'X_aux' is not defined",
     "output_type": "error",
     "traceback": [
      "\u001b[1;31m---------------------------------------------------------------------------\u001b[0m",
      "\u001b[1;31mNameError\u001b[0m                                 Traceback (most recent call last)",
      "\u001b[1;32m<ipython-input-8-4be57560b2ce>\u001b[0m in \u001b[0;36m<module>\u001b[1;34m\u001b[0m\n\u001b[0;32m      9\u001b[0m \u001b[0mmodel_tunning\u001b[0m \u001b[1;33m=\u001b[0m \u001b[0mGridSearchCV\u001b[0m\u001b[1;33m(\u001b[0m\u001b[0mclassif\u001b[0m\u001b[1;33m,\u001b[0m \u001b[0mparam_grid\u001b[0m\u001b[1;33m=\u001b[0m\u001b[0mparameters\u001b[0m\u001b[1;33m,\u001b[0m\u001b[0mcv\u001b[0m\u001b[1;33m=\u001b[0m\u001b[1;36m4\u001b[0m\u001b[1;33m)\u001b[0m\u001b[1;33m\u001b[0m\u001b[1;33m\u001b[0m\u001b[0m\n\u001b[0;32m     10\u001b[0m \u001b[1;33m\u001b[0m\u001b[0m\n\u001b[1;32m---> 11\u001b[1;33m \u001b[0mmodel_tunning\u001b[0m\u001b[1;33m.\u001b[0m\u001b[0mfit\u001b[0m\u001b[1;33m(\u001b[0m\u001b[0mX_aux\u001b[0m\u001b[1;33m,\u001b[0m \u001b[0my_aux\u001b[0m\u001b[1;33m)\u001b[0m\u001b[1;33m\u001b[0m\u001b[1;33m\u001b[0m\u001b[0m\n\u001b[0m\u001b[0;32m     12\u001b[0m \u001b[1;33m\u001b[0m\u001b[0m\n\u001b[0;32m     13\u001b[0m \u001b[0mprint\u001b[0m \u001b[1;33m(\u001b[0m\u001b[0mmodel_tunning\u001b[0m\u001b[1;33m.\u001b[0m\u001b[0mbest_score_\u001b[0m\u001b[1;33m)\u001b[0m\u001b[1;33m\u001b[0m\u001b[1;33m\u001b[0m\u001b[0m\n",
      "\u001b[1;31mNameError\u001b[0m: name 'X_aux' is not defined"
     ]
    }
   ],
   "source": [
    "## Clasificador de regresión logística\n",
    "classif = OneVsRestClassifier(LogisticRegression())\n",
    "parameters = {\n",
    "    \"estimator__C\": [10],\n",
    "    \"estimator__solver\": [\"liblinear\"],\n",
    "    \"estimator__tol\": [0.1]\n",
    "}\n",
    "\n",
    "model_tunning = GridSearchCV(classif, param_grid=parameters,cv=4)\n",
    "\n",
    "model_tunning.fit(X_aux, y_aux)\n",
    "\n",
    "print (model_tunning.best_score_)\n",
    "print (model_tunning.best_params_)\n"
   ]
  },
  {
   "cell_type": "code",
   "execution_count": 6,
   "metadata": {},
   "outputs": [
    {
     "name": "stdout",
     "output_type": "stream",
     "text": [
      "0.3978115786224441\n",
      "{'estimator__C': 1, 'estimator__class_weight': None, 'estimator__solver': 'liblinear', 'estimator__tol': 0.01}\n"
     ]
    }
   ],
   "source": [
    "classif = OneVsRestClassifier(LogisticRegression())\n",
    "parameters = {\n",
    "    \"estimator__C\": [1],\n",
    "    \"estimator__solver\": [\"liblinear\"],\n",
    "    \"estimator__tol\": [0.01],\n",
    "    \"estimator__class_weight\":[None]\n",
    "}\n",
    "\n",
    "model_tunning = GridSearchCV(classif, param_grid=parameters,cv=4)\n",
    "\n",
    "model_tunning.fit(X_tr, y_tr)\n",
    "\n",
    "print (model_tunning.best_score_)\n",
    "print (model_tunning.best_params_)"
   ]
  },
  {
   "cell_type": "code",
   "execution_count": 74,
   "metadata": {},
   "outputs": [],
   "source": [
    "#classif=OneVsRestClassifier(LogisticRegression(C=0.6,tol=0.1,solver='liblinear'))\n",
    "#classif.fit(X_tr,y_tr)\n",
    "\n"
   ]
  },
  {
   "cell_type": "code",
   "execution_count": 57,
   "metadata": {},
   "outputs": [
    {
     "name": "stdout",
     "output_type": "stream",
     "text": [
      "Total accuracy:  0.39247613700168443\n",
      "Hamming loss:  0.02899980272243046\n",
      "Precision:  0.7686536056690287\n",
      "              precision    recall  f1-score   support\n",
      "\n",
      "           0       0.86      0.70      0.77       109\n",
      "           1       0.78      0.46      0.58       138\n",
      "           2       0.78      0.64      0.70       224\n",
      "           3       0.76      0.55      0.64       180\n",
      "           4       0.82      0.69      0.75       177\n",
      "           5       0.75      0.63      0.69       262\n",
      "           6       0.65      0.47      0.55        55\n",
      "           7       0.79      0.67      0.72       341\n",
      "           8       0.64      0.52      0.57        91\n",
      "           9       0.60      0.38      0.47        65\n",
      "          10       0.72      0.66      0.69       181\n",
      "          11       0.57      0.16      0.25        25\n",
      "          12       0.69      0.51      0.58       172\n",
      "          13       0.67      0.20      0.31        10\n",
      "          14       0.91      0.68      0.78       173\n",
      "          15       0.65      0.38      0.48       146\n",
      "          16       0.69      0.58      0.63       113\n",
      "          17       0.47      0.19      0.27        42\n",
      "          18       0.56      0.24      0.34        41\n",
      "          19       0.54      0.28      0.37        25\n",
      "          20       0.00      0.00      0.00        21\n",
      "          21       0.82      0.69      0.75       155\n",
      "          22       0.95      0.69      0.80        26\n",
      "          23       0.75      0.47      0.58        19\n",
      "          24       0.50      0.18      0.26        17\n",
      "          25       0.78      0.70      0.74        30\n",
      "          26       0.90      0.71      0.79        78\n",
      "          27       0.94      0.79      0.86        38\n",
      "          28       0.79      0.22      0.34        51\n",
      "          29       1.00      0.62      0.77        32\n",
      "          30       0.57      0.27      0.36        15\n",
      "          31       0.67      0.24      0.35        17\n",
      "          32       0.89      0.50      0.64        16\n",
      "          33       0.84      0.72      0.78        36\n",
      "          34       0.91      0.87      0.89        45\n",
      "          35       0.50      0.43      0.46        14\n",
      "          36       0.83      0.50      0.62        20\n",
      "\n",
      "   micro avg       0.77      0.58      0.66      3200\n",
      "   macro avg       0.72      0.49      0.57      3200\n",
      "weighted avg       0.76      0.58      0.65      3200\n",
      " samples avg       0.72      0.65      0.65      3200\n",
      "\n",
      "Accuracy per class:\n",
      "Class  0 :  0.9747332959011791\n",
      "Class  1 :  0.9483436271757439\n",
      "Class  2 :  0.9320606400898371\n",
      "Class  3 :  0.9371139809096013\n",
      "Class  4 :  0.9539584503088153\n",
      "Class  5 :  0.9152161706906232\n",
      "Class  6 :  0.9758562605277934\n",
      "Class  7 :  0.9028635597978664\n",
      "Class  8 :  0.9601347557551937\n",
      "Class  9 :  0.9679955081414935\n",
      "Class  10 :  0.9393599101628298\n",
      "Class  11 :  0.9865244244806288\n",
      "Class  12 :  0.9298147108366086\n",
      "Class  13 :  0.9949466591802358\n",
      "Class  14 :  0.9623806850084222\n",
      "Class  15 :  0.9326221224031443\n",
      "Class  16 :  0.9573273441886581\n",
      "Class  17 :  0.9758562605277934\n",
      "Class  18 :  0.9781021897810219\n",
      "Class  19 :  0.9865244244806288\n",
      "Class  20 :  0.9882088714205502\n",
      "Class  21 :  0.9601347557551937\n",
      "Class  22 :  0.9949466591802358\n",
      "Class  23 :  0.9927007299270073\n",
      "Class  24 :  0.9904548006737788\n",
      "Class  25 :  0.991577765300393\n",
      "Class  26 :  0.9837170129140932\n",
      "Class  27 :  0.9943851768669287\n",
      "Class  28 :  0.9758562605277934\n",
      "Class  29 :  0.9932622122403144\n",
      "Class  30 :  0.9921392476137002\n",
      "Class  31 :  0.991577765300393\n",
      "Class  32 :  0.9949466591802358\n",
      "Class  33 :  0.991577765300393\n",
      "Class  34 :  0.9943851768669287\n",
      "Class  35 :  0.9921392476137002\n",
      "Class  36 :  0.9932622122403144\n"
     ]
    }
   ],
   "source": [
    "y_pred=model_tunning.predict(X_tst)\n",
    "accuracy=mtc.accuracy_score(y_tst,y_pred)\n",
    "hamming=mtc.hamming_loss(y_tst,y_pred)\n",
    "precision=mtc.precision_score(y_tst,y_pred,average='micro')\n",
    "print(\"Total accuracy: \", accuracy)\n",
    "print(\"Hamming loss: \", hamming)\n",
    "print(\"Precision: \", precision)\n",
    "print(mtc.classification_report(y_tst,y_pred))\n",
    "print(\"Accuracy per class:\")\n",
    "for i in range(np.shape(y_pred)[1]):\n",
    "    print (\"Class \" ,i,\": \" ,mtc.accuracy_score(y_tst[:,i],y_pred[:,i]))\n"
   ]
  },
  {
   "cell_type": "code",
   "execution_count": 16,
   "metadata": {},
   "outputs": [],
   "source": [
    "#OTROS CLASIFICADORES\n",
    "clf = RandomForestClassifier(n_estimators=1000, max_depth=2,random_state=0)\n",
    "clf.fit(X_tr, y_tr)\n",
    "y_pred2=clf.predict(X_tst)\n"
   ]
  },
  {
   "cell_type": "code",
   "execution_count": 56,
   "metadata": {},
   "outputs": [
    {
     "name": "stdout",
     "output_type": "stream",
     "text": [
      "Total accuracy:  0.0\n",
      "Hamming loss:  0.04856063250223834\n",
      "Precision:  0.0\n",
      "              precision    recall  f1-score   support\n",
      "\n",
      "           0       0.86      0.70      0.77       109\n",
      "           1       0.78      0.46      0.58       138\n",
      "           2       0.78      0.64      0.70       224\n",
      "           3       0.76      0.55      0.64       180\n",
      "           4       0.82      0.69      0.75       177\n",
      "           5       0.75      0.63      0.69       262\n",
      "           6       0.65      0.47      0.55        55\n",
      "           7       0.79      0.67      0.72       341\n",
      "           8       0.64      0.52      0.57        91\n",
      "           9       0.60      0.38      0.47        65\n",
      "          10       0.72      0.66      0.69       181\n",
      "          11       0.57      0.16      0.25        25\n",
      "          12       0.69      0.51      0.58       172\n",
      "          13       0.67      0.20      0.31        10\n",
      "          14       0.91      0.68      0.78       173\n",
      "          15       0.65      0.38      0.48       146\n",
      "          16       0.69      0.58      0.63       113\n",
      "          17       0.47      0.19      0.27        42\n",
      "          18       0.56      0.24      0.34        41\n",
      "          19       0.54      0.28      0.37        25\n",
      "          20       0.00      0.00      0.00        21\n",
      "          21       0.82      0.69      0.75       155\n",
      "          22       0.95      0.69      0.80        26\n",
      "          23       0.75      0.47      0.58        19\n",
      "          24       0.50      0.18      0.26        17\n",
      "          25       0.78      0.70      0.74        30\n",
      "          26       0.90      0.71      0.79        78\n",
      "          27       0.94      0.79      0.86        38\n",
      "          28       0.79      0.22      0.34        51\n",
      "          29       1.00      0.62      0.77        32\n",
      "          30       0.57      0.27      0.36        15\n",
      "          31       0.67      0.24      0.35        17\n",
      "          32       0.89      0.50      0.64        16\n",
      "          33       0.84      0.72      0.78        36\n",
      "          34       0.91      0.87      0.89        45\n",
      "          35       0.50      0.43      0.46        14\n",
      "          36       0.83      0.50      0.62        20\n",
      "\n",
      "   micro avg       0.77      0.58      0.66      3200\n",
      "   macro avg       0.72      0.49      0.57      3200\n",
      "weighted avg       0.76      0.58      0.65      3200\n",
      " samples avg       0.72      0.65      0.65      3200\n",
      "\n",
      "Accuracy per class:\n",
      "Class  0 :  0.9387984278495227\n",
      "Class  1 :  0.9225154407636159\n",
      "Class  2 :  0.8742279618192027\n",
      "Class  3 :  0.8989331836047164\n",
      "Class  4 :  0.9006176305446378\n",
      "Class  5 :  0.8528916339135317\n",
      "Class  6 :  0.9691184727681078\n",
      "Class  7 :  0.8085345311622684\n",
      "Class  8 :  0.948905109489051\n",
      "Class  9 :  0.9635036496350365\n",
      "Class  10 :  0.8983717012914093\n",
      "Class  11 :  0.9859629421673217\n",
      "Class  12 :  0.9034250421111735\n",
      "Class  13 :  0.9943851768669287\n",
      "Class  14 :  0.9028635597978664\n",
      "Class  15 :  0.9180235822571589\n",
      "Class  16 :  0.9365524985962942\n",
      "Class  17 :  0.9764177428411005\n",
      "Class  18 :  0.9769792251544076\n",
      "Class  19 :  0.9859629421673217\n",
      "Class  20 :  0.9882088714205502\n",
      "Class  21 :  0.9129702414373947\n",
      "Class  22 :  0.9854014598540146\n",
      "Class  23 :  0.9893318360471645\n",
      "Class  24 :  0.9904548006737788\n",
      "Class  25 :  0.9831555306007861\n",
      "Class  26 :  0.9562043795620438\n",
      "Class  27 :  0.978663672094329\n",
      "Class  28 :  0.9713644020213363\n",
      "Class  29 :  0.9820325659741718\n",
      "Class  30 :  0.991577765300393\n",
      "Class  31 :  0.9904548006737788\n",
      "Class  32 :  0.9910162829870859\n",
      "Class  33 :  0.9797866367209432\n",
      "Class  34 :  0.9747332959011791\n",
      "Class  35 :  0.9921392476137002\n",
      "Class  36 :  0.9887703537338574\n"
     ]
    }
   ],
   "source": [
    "accuracy=mtc.accuracy_score(y_tst,y_pred2)\n",
    "hamming=mtc.hamming_loss(y_tst,y_pred2)\n",
    "precision=mtc.precision_score(y_tst,y_pred2,average='micro')\n",
    "print(\"Total accuracy: \", accuracy)\n",
    "print(\"Hamming loss: \", hamming)\n",
    "print(\"Precision: \", precision)\n",
    "print(mtc.classification_report(y_tst,y_pred))\n",
    "print(\"Accuracy per class:\")\n",
    "for i in range(np.shape(y_pred2)[1]):\n",
    "    print (\"Class \" ,i,\": \" ,mtc.accuracy_score(y_tst[:,i],y_pred2[:,i]))"
   ]
  },
  {
   "cell_type": "code",
   "execution_count": null,
   "metadata": {},
   "outputs": [],
   "source": [
    "#RBM -- SE IMPLEMENTARÁ CON UN PIPELINE PERO AÚN FALTA ENTENDER MEJOR EL FUNCIONAMIENTO DE BERNOULLIRBM -- \n",
    "#-- NO EJECUTAR-- #\n",
    "logistic = OneVsRestClassifier(LogisticRegression())\n",
    "rbm = BernoulliRBM(random_state=0, verbose=True)\n",
    "rbm_features_classifier = Pipeline(steps=[('rbm', rbm), ('logistic', logistic)])\n",
    "rbm.learning_rate = 0.06\n",
    "rbm.n_iter = 20\n",
    "rbm.n_components = 100\n",
    "rbm_features_classifier.fit(X_tr, y_tr)\n",
    "Y_pred2 = rbm_features_classifier.predict(X_tst)\n"
   ]
  },
  {
   "cell_type": "code",
   "execution_count": null,
   "metadata": {},
   "outputs": [],
   "source": []
  }
 ],
 "metadata": {
  "kernelspec": {
   "display_name": "Python 3",
   "language": "python",
   "name": "python3"
  },
  "language_info": {
   "codemirror_mode": {
    "name": "ipython",
    "version": 3
   },
   "file_extension": ".py",
   "mimetype": "text/x-python",
   "name": "python",
   "nbconvert_exporter": "python",
   "pygments_lexer": "ipython3",
   "version": "3.6.7"
  }
 },
 "nbformat": 4,
 "nbformat_minor": 2
}
